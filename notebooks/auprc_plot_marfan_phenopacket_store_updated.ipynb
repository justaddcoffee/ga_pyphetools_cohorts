
# Plotting AUPRC by Iteration for Marfan Syndrome

This notebook demonstrates how to plot the Area Under the Precision-Recall Curve (AUPRC) by iteration for Marfan Syndrome.

```python
import pandas as pd
import matplotlib.pyplot as plt

# Load the data from the TSV file
file_path = 'auprc_by_iteration_Marfan syndrome_60.tsv'
data = pd.read_csv(file_path, sep='\t')

# Filter the data for the 'train' type
train_data = data[data['type'] == 'train']

# Filter the data for the 'test' type
test_data = data[data['type'] == 'test']

# Extract the test AUPRC at the end of the run (iteration 60)
test_auprc_end = test_data[test_data['iteration'] == 60]['auprc'].values

# Plot the data
plt.figure(figsize=(12, 6))
plt.scatter(train_data['iteration'], train_data['auprc'], alpha=0.5, s=10, color='royalblue')
plt.title('Marfan syndrome')
plt.xlabel('iteration')
plt.ylabel('auprc')
plt.grid(True)

# Add short horizontal lines for test AUPRC at iteration 60
for auprc in test_auprc_end:
    plt.hlines(auprc, xmin=59.5, xmax=60.5, colors='orange', linewidth=2)

plt.show()
```
